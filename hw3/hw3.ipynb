{
 "cells": [
  {
   "cell_type": "code",
   "execution_count": 68,
   "metadata": {},
   "outputs": [],
   "source": [
    "class Node():\n",
    "    def __init__(self, val):\n",
    "        self.val = val\n",
    "        '''\n",
    "        while = 0\n",
    "        gray = 1\n",
    "        black = 2\n",
    "        '''\n",
    "        self.color = 0\n",
    "\n",
    "        \n",
    "class Graphic():\n",
    "    def __init__(self, filename):\n",
    "        \n",
    "        self.num_vertices = 0\n",
    "        self.num_edges = 0\n",
    "        self.nodes = []\n",
    "        self.adjlist = []\n",
    "        \n",
    "        try:\n",
    "            f = open(filename)\n",
    "            self.num_vertices = int(f.readline())\n",
    "            self.num_edges = int(f.readline())\n",
    "            self.nodes = [Node(i) for i in range(self.num_vertices)]\n",
    "            self.adjlist = [set() for _ in range(self.num_vertices)]\n",
    "\n",
    "\n",
    "            for line in f.readlines():\n",
    "\n",
    "                start, end = line.split()\n",
    "                start, end = int(start), int(end)\n",
    "                self.adjlist[start].add(end)    \n",
    "\n",
    "        except:\n",
    "            print(f\"Error loading file from {filename}\")\n",
    "            \n",
    "    def dfs(self):\n",
    "        \n",
    "        def inner_recursive(node):\n",
    "            \n",
    "            for child in self.adjlist[node]:\n",
    "                if self.nodes[child].color == 0: # white\n",
    "                    self.nodes[child].color # Visited, change color to gray      \n",
    "                    inner_recursive(child)\n",
    "                    \n",
    "                elif self.nodes[child].color == 1: # gray\n",
    "                    print(f\"Back Edges : {(node, child)}\")\n",
    "                    \n",
    "            self.nodes[node].color = 2 # Finish, change color to black\n",
    "                \n",
    "        for start_node in self.nodes:\n",
    "            \n",
    "            '''\n",
    "            while = 0\n",
    "            gray = 1\n",
    "            black = 2\n",
    "            '''\n",
    "            if start_node.color == 0:\n",
    "                start_node.color = 1\n",
    "                inner_recursive(start_node.val)\n",
    "                \n",
    "\n",
    "        \n",
    "            \n",
    "    def print_graph(self):\n",
    "        print(f\"Num of vertices : {self.num_vertices}\")\n",
    "        print(f\"Num of edges : {self.num_edges}\")\n",
    "        print(f\"Nodes : {self.nodes}\")\n",
    "        print(f\"Adjacency List : \\n{self.adjlist}\")\n",
    "            \n",
    "            \n",
    "def checkCycle(filename):\n",
    "    graph = Graphic(filename)\n",
    "    graph.dfs()"
   ]
  },
  {
   "cell_type": "code",
   "execution_count": 71,
   "metadata": {},
   "outputs": [],
   "source": [
    "checkCycle('Input1.dat')"
   ]
  },
  {
   "cell_type": "code",
   "execution_count": 72,
   "metadata": {},
   "outputs": [
    {
     "name": "stdout",
     "output_type": "stream",
     "text": [
      "Back Edges : (3, 0)\n"
     ]
    }
   ],
   "source": [
    "checkCycle('Input2.dat')"
   ]
  },
  {
   "cell_type": "code",
   "execution_count": null,
   "metadata": {},
   "outputs": [],
   "source": []
  }
 ],
 "metadata": {
  "kernelspec": {
   "display_name": "Python 3",
   "language": "python",
   "name": "python3"
  },
  "language_info": {
   "codemirror_mode": {
    "name": "ipython",
    "version": 3
   },
   "file_extension": ".py",
   "mimetype": "text/x-python",
   "name": "python",
   "nbconvert_exporter": "python",
   "pygments_lexer": "ipython3",
   "version": "3.7.4"
  }
 },
 "nbformat": 4,
 "nbformat_minor": 4
}
