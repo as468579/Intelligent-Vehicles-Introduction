{
 "cells": [
  {
   "cell_type": "code",
   "execution_count": 103,
   "metadata": {},
   "outputs": [],
   "source": [
    "import numpy as np\n",
    "import math\n",
    "import time\n",
    "\n",
    "f = open(\"Input.dat\")\n",
    "num_messages = int(f.readline())\n",
    "tau = float(f.readline())\n",
    "\n",
    "priorities = np.zeros(num_messages)\n",
    "transmission_times = np.zeros(num_messages)\n",
    "periods = np.zeros(num_messages)\n",
    "\n",
    "for idx, parameters in enumerate(f.readlines()):\n",
    "    parameters = parameters.split()\n",
    "    priorities[idx] = int(parameters[0])\n",
    "    transmission_times[idx] = float(parameters[1])\n",
    "    periods[idx] = int(parameters[2])\n",
    "\n",
    "priorities = np.array([13.  6.  1.  5.  0.  3.  9.  2.  7.  8. 12. 14.  4. 16. 15. 11. 10])"
   ]
  },
  {
   "cell_type": "code",
   "execution_count": 104,
   "metadata": {},
   "outputs": [],
   "source": [
    "def getResponses(priorities, transmission_times, periods):\n",
    "    i = 0\n",
    "    first_time = True\n",
    "    responses = []\n",
    "    while i < num_messages:  \n",
    "\n",
    "        # Initialize\n",
    "        # B = max(transmission_times[i:])\n",
    "        B = max(transmission_times[priorities >= priorities[i]])\n",
    "\n",
    "        if first_time:\n",
    "            Q = B\n",
    "\n",
    "        RHS = B\n",
    "        for index in range(len(priorities)):\n",
    "            if priorities[index] < priorities[i]:\n",
    "                RHS += math.ceil((Q+tau)/periods[index]) * transmission_times[index]\n",
    "\n",
    "        # check constraint\n",
    "        if RHS + transmission_times[i] > periods[i]:\n",
    "            # print(f\"Need to reschedule\")\n",
    "            responses.append(-1)\n",
    "            i += 1\n",
    "            continue\n",
    "\n",
    "\n",
    "        if Q == RHS:\n",
    "            # print(f\"R_{i} = {RHS+transmission_times[i]}\")\n",
    "            responses.append(RHS+transmission_times[i])\n",
    "            i += 1\n",
    "            first_time = True\n",
    "        else:\n",
    "            Q = RHS\n",
    "            first_time = False\n",
    "            \n",
    "    return responses"
   ]
  },
  {
   "cell_type": "code",
   "execution_count": 105,
   "metadata": {},
   "outputs": [
    {
     "name": "stdout",
     "output_type": "stream",
     "text": [
      "0\n",
      "[1.44, 2.04, 2.56, 3.16, 3.68, 4.28, 5.2, 8.4, 9.0, 9.68, 10.2, 19.36, 19.8, 20.32, 29.400000000000002, 29.759999999999998, 30.279999999999998]\n",
      "208.55999999999997\n"
     ]
    }
   ],
   "source": [
    "res = getResponses(priorities, transmission_times, periods)\n",
    "print(res.count(-1))\n",
    "print(res)\n",
    "print(np.sum(getResponses(priorities, transmission_times, periods)))"
   ]
  },
  {
   "cell_type": "markdown",
   "metadata": {},
   "source": [
    "# Stimulated Annealing"
   ]
  },
  {
   "cell_type": "code",
   "execution_count": 106,
   "metadata": {},
   "outputs": [
    {
     "name": "stdout",
     "output_type": "stream",
     "text": [
      "204.35999999999999\n"
     ]
    }
   ],
   "source": [
    "np.random.seed(int(time.time()))\n",
    "temperature = 50\n",
    "r = 0.99\n",
    "solution_star = priorities[:]\n",
    "previous_responses = getResponses(priorities, transmission_times, periods)\n",
    "previous_obj = np.sum(previous_responses) + (previous_responses.count(-1) * 501)\n",
    "best_obj = previous_obj\n",
    "best_priorities = np.zeros(len(priorities))\n",
    "\n",
    "while temperature >= 1:\n",
    "    \n",
    "    # pick a random neighbor S' of S\n",
    "    [i, j] = np.random.randint(priorities.shape[0], size=2)\n",
    "    priorities[i], priorities[j] = priorities[j], priorities[i]\n",
    "    \n",
    "    # delta_c = cost(S') - cost(S)\n",
    "    responses = getResponses(priorities, transmission_times, periods)\n",
    "    c = responses.count(-1)\n",
    "    worst = np.sum(responses)\n",
    "    objective = worst + ( c * 501 ) \n",
    "    delta_c = objective - previous_obj\n",
    "    \n",
    "    # if    delta_c <  0, then S = S'\n",
    "    # elif  delta_c >= 0, then S = S' with probability e–∆C/T\n",
    "    probability = math.exp((-1 * delta_c) / temperature)\n",
    "    rnd = np.random.rand()\n",
    "    \n",
    "    if objective < best_obj:\n",
    "        best_obj = objective\n",
    "        best_priorities = priorities.copy()\n",
    "    \n",
    "    \n",
    "    if delta_c >= 0 and ((rnd - probability) > 0):\n",
    "        priorities[i], priorities[j] = priorities[j], priorities[i]\n",
    "\n",
    "#     print(f\"T : {temperature}\")\n",
    "#     print(f\"responses :  {responses}\")\n",
    "#     print(f\"objective : {objective}\")\n",
    "#     print(f\"best objective : {best_obj}\")›\n",
    "#     print(f\"delta_c : {delta_c}\")\n",
    "#     print(f\"rnd : {rnd}\")\n",
    "#     print(f\"probability : {probability}\")\n",
    "#     print(f\"priorities : {priorities}\")\n",
    "#     print(\"\")\n",
    "\n",
    "        \n",
    "    # T = rT\n",
    "    temperature *= r\n",
    "    \n",
    "print(best_obj)"
   ]
  },
  {
   "cell_type": "code",
   "execution_count": 107,
   "metadata": {},
   "outputs": [
    {
     "name": "stdout",
     "output_type": "stream",
     "text": [
      "[13.  6.  1.  5.  0.  3.  9.  2.  7.  8. 12. 14.  4. 16. 15. 11. 10.]\n"
     ]
    }
   ],
   "source": [
    "print(best_priorities)"
   ]
  },
  {
   "cell_type": "code",
   "execution_count": 38,
   "metadata": {},
   "outputs": [
    {
     "name": "stdout",
     "output_type": "stream",
     "text": [
      "[4, 3, 5, 6, 7]\n"
     ]
    }
   ],
   "source": [
    "a = [3, 4, 5, 6, 7]\n",
    "a[0], a[1] = a[1], a[0]\n",
    "print(a)"
   ]
  },
  {
   "cell_type": "code",
   "execution_count": null,
   "metadata": {},
   "outputs": [],
   "source": []
  }
 ],
 "metadata": {
  "kernelspec": {
   "display_name": "Python 3",
   "language": "python",
   "name": "python3"
  },
  "language_info": {
   "codemirror_mode": {
    "name": "ipython",
    "version": 3
   },
   "file_extension": ".py",
   "mimetype": "text/x-python",
   "name": "python",
   "nbconvert_exporter": "python",
   "pygments_lexer": "ipython3",
   "version": "3.7.5"
  }
 },
 "nbformat": 4,
 "nbformat_minor": 2
}
