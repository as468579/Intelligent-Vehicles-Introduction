{
 "cells": [
  {
   "cell_type": "code",
   "execution_count": 4,
   "metadata": {},
   "outputs": [
    {
     "name": "stdout",
     "output_type": "stream",
     "text": [
      "R_0 = 1.44\n",
      "R_1 = 2.04\n",
      "R_2 = 2.56\n",
      "R_3 = 3.16\n",
      "R_4 = 3.68\n",
      "R_5 = 4.28\n",
      "R_6 = 5.2\n",
      "R_7 = 8.4\n",
      "R_8 = 9.0\n",
      "R_9 = 9.68\n",
      "R_10 = 10.2\n",
      "R_11 = 19.36\n",
      "R_12 = 19.8\n",
      "R_13 = 20.32\n",
      "R_14 = 29.400000000000002\n",
      "R_15 = 29.759999999999998\n",
      "R_16 = 30.279999999999998\n"
     ]
    }
   ],
   "source": [
    "import numpy as np\n",
    "import math\n",
    "\n",
    "f = open(\"Input.dat\")\n",
    "num_messages = int(f.readline())\n",
    "tau = float(f.readline())\n",
    "\n",
    "priorities = np.zeros(num_messages)\n",
    "transmission_times = np.zeros(num_messages)\n",
    "periods = np.zeros(num_messages)\n",
    "\n",
    "for idx, parameters in enumerate(f.readlines()):\n",
    "    parameters = parameters.split()\n",
    "    priorities[idx] = int(parameters[0])\n",
    "    transmission_times[idx] = float(parameters[1])\n",
    "    periods[idx] = int(parameters[2])\n",
    "    \n",
    "i = 0\n",
    "first_time = True\n",
    "while i < num_messages:  \n",
    "    \n",
    "    # Initialize\n",
    "    B = max(transmission_times[i:])\n",
    "    \n",
    "    if first_time:\n",
    "        Q = B\n",
    "    \n",
    "    RHS = B\n",
    "    for high_priority in range(i):\n",
    "        RHS += math.ceil((Q+tau)/periods[high_priority]) * transmission_times[high_priority]\n",
    "    \n",
    "    # check constraint\n",
    "    if RHS + transmission_times[i] > periods[i]:\n",
    "        print(f\"Need to reschedule\")\n",
    "        break\n",
    "        \n",
    "    \n",
    "    if Q == RHS:\n",
    "        print(f\"R_{i} = {RHS+transmission_times[i]}\")\n",
    "        i += 1\n",
    "        first_time = True\n",
    "    else:\n",
    "        Q = RHS\n",
    "        first_time = False\n"
   ]
  },
  {
   "cell_type": "code",
   "execution_count": 22,
   "metadata": {},
   "outputs": [
    {
     "name": "stdout",
     "output_type": "stream",
     "text": [
      "1\n"
     ]
    }
   ],
   "source": [
    "import math\n",
    "print(math.ceil(0.5))"
   ]
  },
  {
   "cell_type": "code",
   "execution_count": null,
   "metadata": {},
   "outputs": [],
   "source": []
  }
 ],
 "metadata": {
  "kernelspec": {
   "display_name": "Python 3",
   "language": "python",
   "name": "python3"
  },
  "language_info": {
   "codemirror_mode": {
    "name": "ipython",
    "version": 3
   },
   "file_extension": ".py",
   "mimetype": "text/x-python",
   "name": "python",
   "nbconvert_exporter": "python",
   "pygments_lexer": "ipython3",
   "version": "3.7.5"
  }
 },
 "nbformat": 4,
 "nbformat_minor": 2
}
